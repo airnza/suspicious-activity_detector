{
 "cells": [
  {
   "cell_type": "code",
   "id": "initial_id",
   "metadata": {
    "collapsed": true,
    "ExecuteTime": {
     "end_time": "2025-06-27T11:01:52.758143Z",
     "start_time": "2025-06-27T11:01:52.708067Z"
    }
   },
   "source": [
    "import pandas as pd\n",
    "\n",
    "# Load Data\n",
    "users = pd.read_csv('../data/users.csv')\n",
    "payments = pd.read_csv('../data/payments.csv')\n",
    "logins = pd.read_csv('../data/logins.csv')\n",
    "\n",
    "users['signup_date'] = pd.to_datetime(users['signup_date'])\n",
    "payments['payment_time'] = pd.to_datetime(payments['payment_time'])\n",
    "logins['login_time'] = pd.to_datetime(logins['login_time'])\n",
    "\n",
    "# Rule 1: Large Payments Soon After Signup\n",
    "\n",
    "merged_pay = pd.merge(users, payments, on='user_id')\n",
    "merged_pay['delay'] = merged_pay['payment_time'] - merged_pay['signup_date']\n",
    "\n",
    "fast_high_pay = merged_pay[(merged_pay['delay'].dt.total_seconds() < 600) & (merged_pay['amount'] > 500)]\n",
    "print(\"⚠️ Users with fast large payments:\")\n",
    "print(fast_high_pay[['user_id', 'amount', 'delay']])\n",
    "\n",
    "# Rule 2: Shared IP Addresses Across Accounts\n",
    "\n",
    "ip_counts = logins.groupby('ip_address')['user_id'].nunique().reset_index()\n",
    "ip_counts.columns = ['ip_address', 'num_users']\n",
    "\n",
    "# Filter IPs shared by more than 1 user\n",
    "shared_ips_df = ip_counts[ip_counts['num_users'] > 1]\n",
    "\n",
    "print(\"\\n⚠️ Shared IPs used by multiple users:\")\n",
    "print(shared_ips_df)\n",
    "# Rule 3: >3 Devices Used in a Single Day\n",
    "\n",
    "logins['date'] = logins['login_time'].dt.date\n",
    "\n",
    "# Count unique devices per user per day\n",
    "device_counts = (\n",
    "    logins.groupby(['user_id', 'date'])['device']\n",
    "    .nunique()\n",
    "    .reset_index(name='device_count')  # This makes device_counts a proper DataFrame\n",
    ")\n",
    "\n",
    "# Filter: more than 3 devices in one day\n",
    "suspicious_device_users = device_counts[device_counts['device_count'] > 3]\n",
    "\n",
    "print(\"\\n⚠️ Users with more than 3 devices in a day:\")\n",
    "print(suspicious_device_users)\n"
   ],
   "outputs": [
    {
     "name": "stdout",
     "output_type": "stream",
     "text": [
      "⚠️ Users with fast large payments:\n",
      "   user_id  amount           delay\n",
      "0        1     999 0 days 00:08:00\n",
      "1        2    1500 0 days 00:05:00\n",
      "\n",
      "⚠️ Shared IPs used by multiple users:\n",
      "    ip_address  num_users\n",
      "4  80.100.24.1          2\n",
      "\n",
      "⚠️ Users with more than 3 devices in a day:\n",
      "   user_id        date  device_count\n",
      "0        1  2023-01-05             4\n"
     ]
    }
   ],
   "execution_count": 2
  }
 ],
 "metadata": {
  "kernelspec": {
   "display_name": "Python 3",
   "language": "python",
   "name": "python3"
  },
  "language_info": {
   "codemirror_mode": {
    "name": "ipython",
    "version": 2
   },
   "file_extension": ".py",
   "mimetype": "text/x-python",
   "name": "python",
   "nbconvert_exporter": "python",
   "pygments_lexer": "ipython2",
   "version": "2.7.6"
  }
 },
 "nbformat": 4,
 "nbformat_minor": 5
}
