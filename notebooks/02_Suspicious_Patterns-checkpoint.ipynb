{
 "cells": [
  {
   "cell_type": "code",
   "id": "initial_id",
   "metadata": {
    "collapsed": true,
    "ExecuteTime": {
     "end_time": "2025-06-27T10:25:50.827273Z",
     "start_time": "2025-06-27T10:25:50.240119Z"
    }
   },
   "source": [
    "import pandas as pd\n",
    "\n",
    "users = pd.read_csv('../data/users.csv')\n",
    "logins = pd.read_csv('../data/logins.csv')\n",
    "logins['login_time'] = pd.to_datetime(logins['login_time'])\n",
    "logins = logins.sort_values(by=['user_id', 'login_time'])\n",
    "\n",
    "# Ensure multiple IPs for same user in a short time window exist\n",
    "suspicious_users = set()\n",
    "\n",
    "for user_id, group in logins.groupby('user_id'):\n",
    "    group = group.sort_values('login_time').reset_index(drop=True)\n",
    "    for i in range(1, len(group)):\n",
    "        delta = (group.loc[i, 'login_time'] - group.loc[i - 1, 'login_time']).total_seconds()\n",
    "        if delta < 300 and group.loc[i, 'ip_address'] != group.loc[i - 1, 'ip_address']:\n",
    "            suspicious_users.add(user_id)\n",
    "\n",
    "print(\"Suspicious users:\", list(suspicious_users))"
   ],
   "outputs": [
    {
     "name": "stdout",
     "output_type": "stream",
     "text": [
      "Suspicious users: [1]\n"
     ]
    }
   ],
   "execution_count": 1
  }
 ],
 "metadata": {
  "kernelspec": {
   "display_name": "Python 3",
   "language": "python",
   "name": "python3"
  },
  "language_info": {
   "codemirror_mode": {
    "name": "ipython",
    "version": 2
   },
   "file_extension": ".py",
   "mimetype": "text/x-python",
   "name": "python",
   "nbconvert_exporter": "python",
   "pygments_lexer": "ipython2",
   "version": "2.7.6"
  }
 },
 "nbformat": 4,
 "nbformat_minor": 5
}
